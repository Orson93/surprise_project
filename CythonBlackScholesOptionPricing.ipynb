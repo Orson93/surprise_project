{
  "nbformat": 4,
  "nbformat_minor": 0,
  "metadata": {
    "colab": {
      "name": "CythonBlackScholesOptionPricing.ipynb",
      "provenance": [],
      "collapsed_sections": [],
      "include_colab_link": true
    },
    "kernelspec": {
      "name": "python3",
      "display_name": "Python 3"
    }
  },
  "cells": [
    {
      "cell_type": "markdown",
      "metadata": {
        "id": "view-in-github",
        "colab_type": "text"
      },
      "source": [
        "<a href=\"https://colab.research.google.com/github/Orson93/surprise_project/blob/master/CythonBlackScholesOptionPricing.ipynb\" target=\"_parent\"><img src=\"https://colab.research.google.com/assets/colab-badge.svg\" alt=\"Open In Colab\"/></a>"
      ]
    },
    {
      "cell_type": "code",
      "metadata": {
        "id": "mbSuRrs5JbUi"
      },
      "source": [
        "%load_ext cython"
      ],
      "execution_count": 1,
      "outputs": []
    },
    {
      "cell_type": "code",
      "metadata": {
        "id": "mXUyVsP1LBGA"
      },
      "source": [
        "# https://nbviewer.jupyter.org/github/ipython/ipython/blob/1.x/examples/notebooks/Cell%20Magics.ipynb\r\n",
        "# https://colab.research.google.com/drive/1oXcSCor9mH72N8NVeYX4Sl2jD0UWII2n#scrollTo=WaQrJS1gMnam\r\n",
        "# https://github.com/ellisonbg/cythonoptions\r\n",
        "# https://srdas.github.io/Papers/cython.pdf\r\n",
        "# https://colab.research.google.com/drive/1oXcSCor9mH72N8NVeYX4Sl2jD0UWII2n#scrollTo=ooRjCqo0JpW5\r\n",
        "# https://wstein.org/wiki/attachments/11(2f)480a/cython_cise_article.pdf"
      ],
      "execution_count": null,
      "outputs": []
    },
    {
      "cell_type": "code",
      "metadata": {
        "id": "t4k685kVJlWW"
      },
      "source": [
        "%%cython\r\n",
        "cimport cython\r\n",
        "from libc.math cimport exp, sqrt, pow, log, erf\r\n",
        "\r\n",
        "@cython.cdivision(True)\r\n",
        "cdef double std_norm_cdf(double x) nogil:\r\n",
        "    return 0.5*(1+erf(x/sqrt(2.0)))\r\n",
        "\r\n",
        "@cython.cdivision(True)\r\n",
        "def black_scholes_cy(double s, double k, double t, double v,\r\n",
        "                 double rf, double div, double cp):\r\n",
        "    \"\"\"Price an option using the Black-Scholes model.\r\n",
        "    \r\n",
        "    s : initial stock price\r\n",
        "    k : strike price\r\n",
        "    t : expiration time\r\n",
        "    v : volatility\r\n",
        "    rf : risk-free rate\r\n",
        "    div : dividend\r\n",
        "    cp : +1/-1 for call/put\r\n",
        "    \"\"\"\r\n",
        "    cdef double d1, d2, optprice\r\n",
        "    with nogil:\r\n",
        "        d1 = (log(s/k)+(rf-div+0.5*pow(v,2))*t)/(v*sqrt(t))\r\n",
        "        d2 = d1 - v*sqrt(t)\r\n",
        "        optprice = cp*s*exp(-div*t)*std_norm_cdf(cp*d1) - \\\r\n",
        "            cp*k*exp(-rf*t)*std_norm_cdf(cp*d2)\r\n",
        "    return optprice"
      ],
      "execution_count": 2,
      "outputs": []
    },
    {
      "cell_type": "code",
      "metadata": {
        "colab": {
          "base_uri": "https://localhost:8080/"
        },
        "id": "GTtD-f0WKiJY",
        "outputId": "2496814d-f705-4755-e535-bc07644bcb82"
      },
      "source": [
        "black_scholes_cy(100.0, 100.0, 1.0, 0.2, 0.05, 0.0, 1)"
      ],
      "execution_count": 3,
      "outputs": [
        {
          "output_type": "execute_result",
          "data": {
            "text/plain": [
              "10.450583572185565"
            ]
          },
          "metadata": {
            "tags": []
          },
          "execution_count": 3
        }
      ]
    },
    {
      "cell_type": "code",
      "metadata": {
        "id": "N4j9P93m9tar"
      },
      "source": [
        "from scipy import stats\r\n",
        "import math\r\n",
        "\r\n",
        "def black_scholes(s, k, t, v, rf, div, cp):\r\n",
        "    \"\"\"Price an option using the Black-Scholes model.\r\n",
        "    \r\n",
        "    s : initial stock price\r\n",
        "    k : strike price\r\n",
        "    t : expiration time\r\n",
        "    v : volatility\r\n",
        "    rf : risk-free rate\r\n",
        "    div : dividend\r\n",
        "    cp : +1/-1 for call/put\r\n",
        "    \"\"\"\r\n",
        "    d1 = (math.log(s/k)+(rf-div+0.5*math.pow(v,2))*t)/(v*math.sqrt(t))\r\n",
        "    d2 = d1 - v*math.sqrt(t)\r\n",
        "    optprice = cp*s*math.exp(-div*t)*stats.norm.cdf(cp*d1) - \\\r\n",
        "        cp*k*math.exp(-rf*t)*stats.norm.cdf(cp*d2) \r\n",
        "    return optprice"
      ],
      "execution_count": 4,
      "outputs": []
    },
    {
      "cell_type": "code",
      "metadata": {
        "id": "IbFNE9129yh7",
        "colab": {
          "base_uri": "https://localhost:8080/"
        },
        "outputId": "79737861-a58b-4f0c-d57f-ea648d1c85f0"
      },
      "source": [
        "black_scholes(100.0, 100.0, 1.0, 0.2, 0.05, 0.0, 1)"
      ],
      "execution_count": 5,
      "outputs": [
        {
          "output_type": "execute_result",
          "data": {
            "text/plain": [
              "10.450583572185565"
            ]
          },
          "metadata": {
            "tags": []
          },
          "execution_count": 5
        }
      ]
    },
    {
      "cell_type": "code",
      "metadata": {
        "colab": {
          "base_uri": "https://localhost:8080/"
        },
        "id": "zl5vpFKOTSni",
        "outputId": "7a885d9d-7e10-4945-ad04-c4fb70abf06a"
      },
      "source": [
        "%timeit -n 250 black_scholes_cy(100.0, 100.0, 1.0, 0.3, 0.03, 0.0, -1)"
      ],
      "execution_count": 6,
      "outputs": [
        {
          "output_type": "stream",
          "text": [
            "The slowest run took 6.66 times longer than the fastest. This could mean that an intermediate result is being cached.\n",
            "250 loops, best of 3: 386 ns per loop\n"
          ],
          "name": "stdout"
        }
      ]
    },
    {
      "cell_type": "code",
      "metadata": {
        "colab": {
          "base_uri": "https://localhost:8080/"
        },
        "id": "EYDiVMFM9-wC",
        "outputId": "0efdd5fc-70ab-4410-bf21-9ebe4f984cdd"
      },
      "source": [
        "%timeit -n 250 black_scholes(100.0, 100.0, 1.0, 0.3, 0.03, 0.0, -1)"
      ],
      "execution_count": 7,
      "outputs": [
        {
          "output_type": "stream",
          "text": [
            "250 loops, best of 3: 161 µs per loop\n"
          ],
          "name": "stdout"
        }
      ]
    }
  ]
}